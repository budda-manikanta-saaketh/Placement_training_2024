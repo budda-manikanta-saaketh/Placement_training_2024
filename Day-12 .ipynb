{
 "cells": [
  {
   "cell_type": "markdown",
   "id": "392494b9",
   "metadata": {},
   "source": [
    "# BFS"
   ]
  },
  {
   "cell_type": "code",
   "execution_count": 14,
   "id": "292d7163",
   "metadata": {},
   "outputs": [
    {
     "name": "stdout",
     "output_type": "stream",
     "text": [
      "8\n",
      "7\n",
      "4\n",
      "6\n",
      "5\n",
      "3\n",
      "1\n",
      "2\n",
      "13\n",
      "10\n",
      "14\n",
      "11\n",
      "12\n"
     ]
    }
   ],
   "source": [
    "def bfs(graph,n):\n",
    "    q=[n]\n",
    "    while(q):\n",
    "        for i in graph[q[0]]:\n",
    "            if i not in q and i not in vi:\n",
    "                q.append(i)\n",
    "        vi.append(q.pop(0))\n",
    "        print(vi[-1])   \n",
    "graph={5:[7,3],7:[5,4,3],4:[7,8,2],3:[5,7,8],8:[3,4,2],2:[4,8]}\n",
    "# graph={8:[7,4],7:[8,6],6:[7,5,1],4:[8,5,3],5:[4,6,1],1:[6,5,13],3:[4,2],2:[3,10],10:[2,11,12],11:[10],12:[10],13:[1,14],14:[13]}\n",
    "v=next(iter(graph))\n",
    "vi=[]\n",
    "q=[]\n",
    "bfs(graph,v)"
   ]
  },
  {
   "cell_type": "markdown",
   "id": "966bd577",
   "metadata": {},
   "source": [
    "# dijkstra's Algorithm"
   ]
  },
  {
   "cell_type": "code",
   "execution_count": 45,
   "id": "6a3dc1d8",
   "metadata": {},
   "outputs": [
    {
     "name": "stdout",
     "output_type": "stream",
     "text": [
      "{5: 0, 1: 2, 3: 1, 6: 3, 2: 3}\n"
     ]
    }
   ],
   "source": [
    "g={5:[(3,1),(1,2),(6,3)],1:[(5,2),(2,1)],3:[(5,1),(6,3)],6:[],2:[]}\n",
    "def dijkstras(x):\n",
    "    d={5:999,1:9999,3:9999,6:9999,2:9999}\n",
    "    d[x]=0\n",
    "    vi=[]\n",
    "    q=[x]\n",
    "    while(q):\n",
    "        x=q.pop(0)\n",
    "        for i in g[x]:\n",
    "            if(i[0] not in vi):\n",
    "                if d[i[0]]>i[1]+d[x]:\n",
    "                    d[i[0]]=i[1]+d[x]\n",
    "                if i[0] not in q:\n",
    "                    q.append(i[0])\n",
    "        vi.append(x)\n",
    "    return d\n",
    "print (dijkstras(5))"
   ]
  },
  {
   "cell_type": "code",
   "execution_count": 46,
   "id": "c809c2e9",
   "metadata": {},
   "outputs": [
    {
     "name": "stdout",
     "output_type": "stream",
     "text": [
      "{5: 0, 1: 2, 3: 1, 6: 3, 2: 3}\n"
     ]
    }
   ],
   "source": [
    "g={5:[(3,1),(1,2),(6,3)],1:[(5,2),(2,1)],3:[(5,1),(6,3)],6:[],2:[]}\n",
    "def dijkstras(x):\n",
    "    d={5:999,1:9999,3:9999,6:9999,2:9999}\n",
    "    d[x]=0\n",
    "    vi=[]\n",
    "    q=[x]\n",
    "    while(q):\n",
    "        m=9999\n",
    "        for i in q:\n",
    "            if d[i]<m:\n",
    "                m=d[i]\n",
    "                x=i\n",
    "        for i in g[x]:\n",
    "            if(i[0] not in vi):\n",
    "                q.append(i[0])\n",
    "                if d[i[0]]>i[1]+d[x]:\n",
    "                    d[i[0]]=i[1]+d[x]\n",
    "        vi.append(x)\n",
    "        q.remove(x)\n",
    "    return d\n",
    "print (dijkstras(5))"
   ]
  },
  {
   "cell_type": "code",
   "execution_count": 1,
   "id": "c6d129c2",
   "metadata": {},
   "outputs": [
    {
     "name": "stdout",
     "output_type": "stream",
     "text": [
      "[13, 11, 9, 15, 9, 7, 5, 11, 11, 9, 7, 13]\n"
     ]
    }
   ],
   "source": [
    "l1=[6,3,2,9,4,7]\n",
    "l2=[8,7,5,3,6,9]\n",
    "res=[]\n",
    "# for i in l1:\n",
    "#     if i%2==0:\n",
    "#         for j in l2:\n",
    "#             if j%2!=0:\n",
    "#                 res.append(i+j)\n",
    "print(res) "
   ]
  },
  {
   "cell_type": "markdown",
   "id": "a10bab1a",
   "metadata": {},
   "source": [
    "# adding every even and odd numbers in respective lists"
   ]
  },
  {
   "cell_type": "code",
   "execution_count": 25,
   "id": "71bd0f8c",
   "metadata": {},
   "outputs": [
    {
     "name": "stdout",
     "output_type": "stream",
     "text": [
      "[13, 11, 9, 15, 9, 7, 5, 11, 11, 9, 7, 13]\n"
     ]
    }
   ],
   "source": [
    "def rec(l1,l2,i,j,res):\n",
    "    \n",
    "    if i==len(l1):\n",
    "        return res\n",
    "    \n",
    "    if j<len(l2):\n",
    "        \n",
    "        if l1[i]%2==0 and l2[j]%2!=0:\n",
    "                res.append(l1[i]+l2[j])\n",
    "                \n",
    "        return rec(l1,l2,i,j+1,res)\n",
    "        \n",
    "    return rec(l1,l2,i+1,0,res)\n",
    "\n",
    "l1=[6,3,2,9,4,7]\n",
    "l2=[8,7,5,3,6,9]\n",
    "res=[]\n",
    "rec(l1,l2,0,0,res)\n",
    "print(res)"
   ]
  }
 ],
 "metadata": {
  "kernelspec": {
   "display_name": "Python 3 (ipykernel)",
   "language": "python",
   "name": "python3"
  },
  "language_info": {
   "codemirror_mode": {
    "name": "ipython",
    "version": 3
   },
   "file_extension": ".py",
   "mimetype": "text/x-python",
   "name": "python",
   "nbconvert_exporter": "python",
   "pygments_lexer": "ipython3",
   "version": "3.11.3"
  }
 },
 "nbformat": 4,
 "nbformat_minor": 5
}
