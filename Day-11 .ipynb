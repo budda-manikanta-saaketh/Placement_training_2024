{
 "cells": [
  {
   "cell_type": "markdown",
   "id": "5695792e",
   "metadata": {},
   "source": [
    "# left,right,top and bottom views of tree"
   ]
  },
  {
   "cell_type": "code",
   "execution_count": 14,
   "id": "93439e28",
   "metadata": {},
   "outputs": [
    {
     "name": "stdout",
     "output_type": "stream",
     "text": [
      "\n",
      "{-3: 12, -1: 10, -2: 13, 3: 27, 2: 26, 1: 25, 0: 20}\n"
     ]
    }
   ],
   "source": [
    "class Node:\n",
    "    def __init__(self, u):\n",
    "        self.data = u\n",
    "        self.left = None\n",
    "        self.right = None\n",
    "\n",
    "class Tree:\n",
    "    def __init__(self):\n",
    "        self.root = None\n",
    "\n",
    "    def create(self, root, x):\n",
    "        if root is None:\n",
    "            return Node(x)\n",
    "        elif root.data > x:\n",
    "            root.left = self.create(root.left, x)\n",
    "        else:\n",
    "            root.right = self.create(root.right, x)\n",
    "        return root\n",
    "    \n",
    "    def left_view(self,root,c,li):\n",
    "        if root==None:\n",
    "            return \n",
    "        if c not in li:\n",
    "            print(root.data)\n",
    "            li.append(c)\n",
    "        self.left_view(root.left,c+1,li)\n",
    "        self.left_view(root.right,c+1,li)\n",
    "        \n",
    "        \n",
    "        \n",
    "    def right_view(self,root,c,li):\n",
    "        if root==None:\n",
    "            return \n",
    "        if c not in li:\n",
    "            print(root.data)\n",
    "            li.append(c)\n",
    "        self.right_view(root.right,c+1,li)\n",
    "        self.right_view(root.left,c+1,li)   \n",
    "        \n",
    "        \n",
    "    def top_view(self,root,c,dict1):\n",
    "        if root==None:\n",
    "            return \n",
    "        self.top_view(root.left,c-1,dict1)  \n",
    "        self.top_view(root.right,c+1,dict1)\n",
    "        dict1.update({c:root.data})\n",
    "        \n",
    "        \n",
    "    def bot_view(self,root,c,dict1):\n",
    "        if root==None:\n",
    "            return \n",
    "        self.top_view(root.left,c-1,dict1)  \n",
    "        dict1.update({c:root.data})\n",
    "        self.top_view(root.right,c+1,dict1)\n",
    "        \n",
    "        \n",
    "    \n",
    "        \n",
    "            \n",
    "\n",
    "t1 = Tree()\n",
    "t1.root = t1.create(t1.root, 20)\n",
    "t1.root = t1.create(t1.root, 10)\n",
    "t1.root = t1.create(t1.root,25)\n",
    "t1.root = t1.create(t1.root, 8)\n",
    "t1.root = t1.create(t1.root, 5)\n",
    "t1.root = t1.create(t1.root, 9)\n",
    "t1.root = t1.create(t1.root, 24)\n",
    "t1.root = t1.create(t1.root, 26)\n",
    "t1.root = t1.create(t1.root, 27)\n",
    "t1.root = t1.create(t1.root, 15)\n",
    "t1.root = t1.create(t1.root, 16)\n",
    "t1.root = t1.create(t1.root, 17)\n",
    "t1.root = t1.create(t1.root, 18)\n",
    "t1.root = t1.create(t1.root, 14)\n",
    "t1.root = t1.create(t1.root, 13)\n",
    "t1.root = t1.create(t1.root, 12)\n",
    "\n",
    "# li=[]\n",
    "# print(\"left view:\")\n",
    "# t1.left_view(t1.root,0,li)\n",
    "\n",
    "\n",
    "# li=[]\n",
    "# print(\"right view:\")\n",
    "# t1.right_view(t1.root,0,li)\n",
    "\n",
    "print()\n",
    "dict1={}\n",
    "t1.top_view(t1.root,0,dict1)\n",
    "print(dict1)\n",
    "\n",
    "# print()\n",
    "# dict1={}\n",
    "# t1.bot_view(t1.root,0,dict1)\n",
    "# print(dict1)\n",
    "# print(\"Preorder traversal: \")\n",
    "# t1.preorder(t1.root)\n",
    "# print(\"\\nInorder traversal: \")\n",
    "# t1.inorder(t1.root)\n",
    "# print(\"\\nPostorder traversal: \")\n",
    "# t1.postorder(t1.root)\n",
    "# print()\n",
    "# print(\"difference be"
   ]
  },
  {
   "cell_type": "markdown",
   "id": "8c03b97c",
   "metadata": {},
   "source": [
    "# printing all possible paths from start to end"
   ]
  },
  {
   "cell_type": "code",
   "execution_count": 25,
   "id": "1f4d7438",
   "metadata": {},
   "outputs": [
    {
     "name": "stdout",
     "output_type": "stream",
     "text": [
      "[5, 7, 4, 8, 2]\n",
      "[5, 7, 4, 2]\n",
      "[5, 7, 3, 8, 4, 2]\n",
      "[5, 7, 3, 8, 2]\n",
      "[5, 3, 7, 4, 8, 2]\n",
      "[5, 3, 7, 4, 2]\n",
      "[5, 3, 8, 4, 2]\n",
      "[5, 3, 8, 2]\n"
     ]
    }
   ],
   "source": [
    "def fun(v,graph,l):\n",
    "    l.append(v)\n",
    "    if v==2:\n",
    "        print(l)\n",
    "        l.pop()\n",
    "        return\n",
    "    for i in graph[v]:\n",
    "        if i not in l:\n",
    "            fun(i,graph,l)\n",
    "    l.pop()\n",
    "graph={5:[7,3],7:[5,4,3],4:[7,8,2],3:[5,7,8],8:[3,4,2],2:[4,8]}\n",
    "v=next(iter(graph))\n",
    "l=[]\n",
    "fun(v,graph,l)"
   ]
  },
  {
   "cell_type": "markdown",
   "id": "84cde2cf",
   "metadata": {},
   "source": [
    "# printing costs too"
   ]
  },
  {
   "cell_type": "code",
   "execution_count": 53,
   "id": "f74812dc",
   "metadata": {},
   "outputs": [
    {
     "name": "stdout",
     "output_type": "stream",
     "text": [
      "[5, 7, 4, 8, 2] 11\n",
      "[5, 7, 4, 2] 7\n",
      "[5, 7, 3, 8, 4, 2] 15\n",
      "[5, 7, 3, 8, 2] 14\n",
      "[5, 3, 7, 4, 8, 2] 15\n",
      "[5, 3, 7, 4, 2] 11\n",
      "[5, 3, 8, 4, 2] 13\n",
      "[5, 3, 8, 2] 12\n"
     ]
    }
   ],
   "source": [
    "def fun(v,graph,l,s):\n",
    "    l.append(v)\n",
    "    if v==2:\n",
    "        if c<m:\n",
    "            m=c\n",
    "            l1=l.copy()\n",
    "        print(l,s)\n",
    "        l.pop()\n",
    "        return \n",
    "    for i in graph[v]:\n",
    "        if i[0] not in l:\n",
    "            fun(i[0],graph,l,i[1])\n",
    "           \n",
    "    l.pop()\n",
    "graph={5:[(7,2),(3,1)],7:[(5,2),(4,6),(3,2)],4:[(7,6),(8,1),(2,2)],3:[(5,4),(7,8),(8,4)],8:[(3,3),(4,1),(2,1)],2:[(4,2),(8,5)]}\n",
    "v=next(iter(graph))\n",
    "l=[]\n",
    "fun(5,graph,l,0)"
   ]
  },
  {
   "cell_type": "code",
   "execution_count": 31,
   "id": "b27c022a",
   "metadata": {},
   "outputs": [
    {
     "name": "stdout",
     "output_type": "stream",
     "text": [
      "[5, 7, 4, 8, 2]\n",
      "[5, 7, 4, 2]\n",
      "[5, 7, 3, 8, 4, 2]\n",
      "[5, 7, 3, 8, 2]\n",
      "[5, 3, 7, 4, 8, 2]\n",
      "[5, 3, 7, 4, 2]\n",
      "[5, 3, 8, 4, 2]\n",
      "[5, 3, 8, 2]\n"
     ]
    }
   ],
   "source": [
    "def display_all_paths(v,graph,l):\n",
    "    l.append(v)\n",
    "    if v==2:\n",
    "        print(l)\n",
    "        l.pop()\n",
    "        return\n",
    "    for i in graph[v]:\n",
    "        if i[0] not in l:\n",
    "            display_all_paths(i[0],graph,l)\n",
    "    l.pop()\n",
    "graph={5:[(7,2),(3,4)],7:[(5,2),(4,1),(3,8)],4:[(7,1),(8,3),(2,2)],3:[(5,4),(7,8),(8,4)],8:[(3,4),(4,3),(2,5)],2:[(4,2),(8,5)]}\n",
    "v=next(iter(graph))\n",
    "l=[]\n",
    "display_all_paths(5,graph,l)"
   ]
  },
  {
   "cell_type": "markdown",
   "id": "0580c69b",
   "metadata": {},
   "source": [
    "# displaying least cost and path"
   ]
  },
  {
   "cell_type": "code",
   "execution_count": 71,
   "id": "0bca7539",
   "metadata": {},
   "outputs": [
    {
     "name": "stdout",
     "output_type": "stream",
     "text": [
      "(0, [5])\n",
      "(2, [5, 7])\n",
      "(3, [5, 7, 4])\n",
      "(4, [5, 3])\n",
      "(6, [5, 7, 4, 8])\n",
      "(5, [5, 7, 4, 2])\n"
     ]
    }
   ],
   "source": [
    "def least_cost_and_path(d,x,e,c,m,l1):\n",
    "    l.append(x)\n",
    "    if x==e:\n",
    "        if c<m:\n",
    "            m=c\n",
    "            l1=l.copy()\n",
    "        l.pop()\n",
    "        return m,l1\n",
    "    for i in d[x]:\n",
    "        if i[0] not in l:\n",
    "            m,l1=least_cost_and_path(d,i[0],e,c+i[1],m,l1)\n",
    "    l.pop()\n",
    "    return m,l1\n",
    "graph={5:[(7,2),(3,4)],7:[(5,2),(4,1),(3,8)],4:[(7,1),(8,3),(2,2)],3:[(5,4),(7,8),(8,4)],8:[(3,4),(4,3),(2,5)],2:[(4,2),(8,5)]}\n",
    "l1=[]\n",
    "for i in graph:\n",
    "    print(least_cost_and_path(graph,5,i,0,9999,l1))\n",
    "    l1=[]"
   ]
  },
  {
   "cell_type": "code",
   "execution_count": 69,
   "id": "3538979c",
   "metadata": {},
   "outputs": [
    {
     "name": "stdout",
     "output_type": "stream",
     "text": [
      "[5]\n",
      "[5, 7]\n",
      "[5, 3, 7]\n",
      "[5, 3, 8, 4, 7]\n",
      "[5, 3, 8, 2, 4, 7]\n",
      "[5, 7, 4]\n",
      "[5, 7, 3, 8, 4]\n",
      "[5, 7, 3, 8, 2, 4]\n",
      "[5, 3, 7, 4]\n",
      "[5, 3, 8, 4]\n",
      "[5, 3, 8, 2, 4]\n",
      "[5, 7, 4, 8, 3]\n",
      "[5, 7, 4, 2, 8, 3]\n",
      "[5, 7, 3]\n",
      "[5, 3]\n",
      "[5, 7, 4, 8]\n",
      "[5, 7, 4, 2, 8]\n",
      "[5, 7, 3, 8]\n",
      "[5, 3, 7, 4, 8]\n",
      "[5, 3, 7, 4, 2, 8]\n",
      "[5, 3, 8]\n",
      "[5, 7, 4, 8, 2]\n",
      "[5, 7, 4, 2]\n",
      "[5, 7, 3, 8, 4, 2]\n",
      "[5, 7, 3, 8, 2]\n",
      "[5, 3, 7, 4, 8, 2]\n",
      "[5, 3, 7, 4, 2]\n",
      "[5, 3, 8, 4, 2]\n",
      "[5, 3, 8, 2]\n"
     ]
    }
   ],
   "source": [
    "def display_all_paths(v,graph,l,ch):\n",
    "    l.append(v)\n",
    "    if v==ch:\n",
    "        print(l)\n",
    "        l.pop()\n",
    "        return\n",
    "    for i in graph[v]:\n",
    "        if i[0] not in l:\n",
    "            display_all_paths(i[0],graph,l,ch)\n",
    "    l.pop()\n",
    "graph={5:[(7,2),(3,4)],7:[(5,2),(4,1),(3,8)],4:[(7,1),(8,3),(2,2)],3:[(5,4),(7,8),(8,4)],8:[(3,4),(4,3),(2,5)],2:[(4,2),(8,5)]}\n",
    "v=next(iter(graph))\n",
    "l=[]\n",
    "for i in graph:\n",
    "    display_all_paths(5,graph,l,i)\n",
    "    l=[]"
   ]
  }
 ],
 "metadata": {
  "kernelspec": {
   "display_name": "Python 3 (ipykernel)",
   "language": "python",
   "name": "python3"
  },
  "language_info": {
   "codemirror_mode": {
    "name": "ipython",
    "version": 3
   },
   "file_extension": ".py",
   "mimetype": "text/x-python",
   "name": "python",
   "nbconvert_exporter": "python",
   "pygments_lexer": "ipython3",
   "version": "3.11.3"
  }
 },
 "nbformat": 4,
 "nbformat_minor": 5
}
