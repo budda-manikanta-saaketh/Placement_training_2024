{
 "cells": [
  {
   "cell_type": "markdown",
   "id": "384e3da5",
   "metadata": {},
   "source": [
    "# finding min no.of rows with distinct elements from 1-D array"
   ]
  },
  {
   "cell_type": "code",
   "execution_count": 30,
   "id": "baa0a67e",
   "metadata": {},
   "outputs": [
    {
     "name": "stdout",
     "output_type": "stream",
     "text": [
      "[[2, 3, 4, 1], [3, 2, 4, 1], [2, 3]]\n"
     ]
    }
   ],
   "source": [
    "a=[2,3,4,1,3,2,4,2,1,3]\n",
    "m=[]\n",
    "c=0\n",
    "while c!=len(a):\n",
    "    r=[]\n",
    "    for i in range(len(a)):\n",
    "        if not str(a[i]).isalpha():\n",
    "            if a[i] not in r:\n",
    "                c+=1\n",
    "                r.append(a[i])\n",
    "                a[i]='a'\n",
    "    m.append(r)\n",
    "print(m)"
   ]
  },
  {
   "cell_type": "code",
   "execution_count": 28,
   "id": "5c835b65",
   "metadata": {},
   "outputs": [
    {
     "name": "stdout",
     "output_type": "stream",
     "text": [
      "[[2, 3, 1, 4], [3, 2], [3]]\n"
     ]
    }
   ],
   "source": [
    "li=[2,3,1,3,4,3,2]\n",
    "#li=[1,2,3,4,1,2,3,1,2]\n",
    "#li=[4,5,2,1]\n",
    "def check(li):\n",
    "    result,res,left=[],[],[]\n",
    "    if len(li)==1:\n",
    "        return [li]\n",
    "    for i in li:\n",
    "        if i not in res:\n",
    "            res.append(i)\n",
    "        else:\n",
    "            left.append(i)\n",
    "    result=[res]\n",
    "    if len(left)!=0:\n",
    "        result.extend(check(left))\n",
    "    return result\n",
    "print(check(li))"
   ]
  },
  {
   "cell_type": "markdown",
   "id": "3ac90df6",
   "metadata": {},
   "source": [
    "# checking every alphabet present in given sentence"
   ]
  },
  {
   "cell_type": "code",
   "execution_count": 34,
   "id": "a52f1931",
   "metadata": {},
   "outputs": [
    {
     "name": "stdout",
     "output_type": "stream",
     "text": [
      "true\n"
     ]
    }
   ],
   "source": [
    "s='the quick brown fox jumps over the lazy dog'\n",
    "a=''.join(list(set(s)))\n",
    "if len(a)==27:\n",
    "    print(\"true\")\n",
    "else:\n",
    "    print(\"false\")"
   ]
  },
  {
   "cell_type": "code",
   "execution_count": 39,
   "id": "aa6f1271",
   "metadata": {},
   "outputs": [
    {
     "name": "stdout",
     "output_type": "stream",
     "text": [
      "thequickbrownfoendxjumpsoverthelazydog\n",
      "26\n",
      "true\n"
     ]
    }
   ],
   "source": [
    "s='the 4quick br$%^own foENDx j45umps o.ver the lazy dog'\n",
    "b=''\n",
    "for i in s:\n",
    "    if i.isalpha():\n",
    "        if i.isupper():\n",
    "            b=b+i.lower()\n",
    "        else:\n",
    "            b=b+i\n",
    "c=len(list(set(b)))\n",
    "if c==26:\n",
    "    print(\"true\")\n",
    "else:\n",
    "    print(\"false\")"
   ]
  },
  {
   "cell_type": "markdown",
   "id": "c981b43a",
   "metadata": {},
   "source": [
    "# Longest subsequence without duplicates"
   ]
  },
  {
   "cell_type": "code",
   "execution_count": 1,
   "id": "2b255c86",
   "metadata": {},
   "outputs": [
    {
     "ename": "NameError",
     "evalue": "name 'm' is not defined",
     "output_type": "error",
     "traceback": [
      "\u001b[1;31m---------------------------------------------------------------------------\u001b[0m",
      "\u001b[1;31mNameError\u001b[0m                                 Traceback (most recent call last)",
      "Cell \u001b[1;32mIn[1], line 11\u001b[0m\n\u001b[0;32m      9\u001b[0m     d[s[i]]\u001b[38;5;241m=\u001b[39mi\n\u001b[0;32m     10\u001b[0m \u001b[38;5;28;01melse\u001b[39;00m:\n\u001b[1;32m---> 11\u001b[0m     \u001b[38;5;28;01mif\u001b[39;00m \u001b[38;5;28mlen\u001b[39m(s)\u001b[38;5;241m>\u001b[39mm:\n\u001b[0;32m     12\u001b[0m         m\u001b[38;5;241m=\u001b[39m\u001b[38;5;28mlen\u001b[39m(s)\n\u001b[0;32m     13\u001b[0m     \u001b[38;5;28mprint\u001b[39m(s)\n",
      "\u001b[1;31mNameError\u001b[0m: name 'm' is not defined"
     ]
    }
   ],
   "source": [
    "a=\"abfgresagtyuiofds\"\n",
    "d={}\n",
    "i=0\n",
    "s=''\n",
    "while(i<len(a)):\n",
    "    while(i<len(a)):\n",
    "        if a[i] not in s:\n",
    "            s+=a[i]\n",
    "            d[s[i]]=i\n",
    "        else:\n",
    "            if len(s)>m:\n",
    "                m=len(s)\n",
    "            print(s)\n",
    "            s=\"\"\n",
    "            break\n",
    "        i=i+1\n",
    "    i=d[a[i]]+1\n",
    "print(m)"
   ]
  },
  {
   "cell_type": "markdown",
   "id": "06c15e33",
   "metadata": {},
   "source": [
    "# Forest and Fire Problem"
   ]
  },
  {
   "cell_type": "code",
   "execution_count": 25,
   "id": "761db92a",
   "metadata": {},
   "outputs": [
    {
     "name": "stdout",
     "output_type": "stream",
     "text": [
      "[[0, 2, 2, 2, 0, 1], [0, 2, 0, 2, 0, 0], [1, 0, 2, 2, 0, 0], [0, 0, 0, 2, 2, 2], [1, 1, 0, 0, 0, 2], [1, 1, 1, 0, 1, 0]]\n",
      "8\n"
     ]
    }
   ],
   "source": [
    "# n=int(input())\n",
    "li=[[0,1,1,1,0,1],[0,1,0,1,0,0],[1,0,1,1,0,0],[0,0,0,1,1,1],[1,1,0,0,0,1],[1,1,1,0,1,0]]\n",
    "# for i in range(n):\n",
    "#     r=[]\n",
    "#     for j in range(n):\n",
    "#         r.append(int(input()))\n",
    "#     li.append(r)\n",
    "# i=int(input())\n",
    "# j=int(input())\n",
    "i=3\n",
    "j=5\n",
    "def rec(li,i,j):\n",
    "    if i>=0 and j>=0 and i<len(li) and j<len(li):\n",
    "        if li[i][j]==0:\n",
    "            return\n",
    "        elif li[i][j]==1:\n",
    "            li[i][j]=2\n",
    "            rec(li,i-1,j)\n",
    "            rec(li,i+1,j)\n",
    "            rec(li,i,j-1)\n",
    "            rec(li,i,j+1)\n",
    "rec(li,i,j)\n",
    "print(li)\n",
    "c=0\n",
    "for i in range(len(li)):\n",
    "    for j in range(len(li)):\n",
    "        if li[i][j]==1:\n",
    "            c+=1\n",
    "print(c)"
   ]
  },
  {
   "cell_type": "code",
   "execution_count": 3,
   "id": "92207b96",
   "metadata": {},
   "outputs": [
    {
     "name": "stdout",
     "output_type": "stream",
     "text": [
      "word\n",
      "[]\n"
     ]
    }
   ],
   "source": [
    "word=input()\n",
    "#n=int(input())\n",
    "li=[['t','u','e','d'],['f','w','o','w'],['r','o','e','r'],['d','r','u','i']]\n",
    "# for i in range(n):\n",
    "#     r=[]\n",
    "#     for j in range(n):\n",
    "#         r.append(input())\n",
    "#     li.append(r)\n",
    "# i=int(input())\n",
    "# j=int(input())\n",
    "for i in range(len(li)):\n",
    "    for j in range(len(li)):\n",
    "        if li[i][j]==word[0]:\n",
    "            break\n",
    "\n",
    "def rec(li,i,j,word,k):\n",
    "    res=[]\n",
    "    if i>=0 and j>=0 and i<len(li) and j<len(li):\n",
    "        if li[i][j] == word[-1]:\n",
    "            return res\n",
    "        elif li[i][j] ==word[k]:\n",
    "            k+=1\n",
    "            res.append(li[i][j])\n",
    "            res.append(rec(li,i-1,j))\n",
    "            res.append(rec(li,i+1,j))\n",
    "            res.append(rec(li,i,j-1))\n",
    "            res.append(rec(li,i,j+1))\n",
    "    return res\n",
    "print(rec(li,i,j,word,0))"
   ]
  },
  {
   "cell_type": "markdown",
   "id": "d0d22910",
   "metadata": {},
   "source": [
    "# Tree Creation"
   ]
  },
  {
   "cell_type": "code",
   "execution_count": 32,
   "id": "5445e40c",
   "metadata": {},
   "outputs": [],
   "source": [
    "class node:\n",
    "    def __init__(self,u):\n",
    "        self.data=u\n",
    "        self.left=None\n",
    "        self.right=None\n",
    "class tree:\n",
    "    def __init__(self):\n",
    "        self.root=None\n",
    "    def create(self,root,x):\n",
    "        if root==None:\n",
    "            self.root=node(x)\n",
    "        elif root.data>x:\n",
    "            self.create(root.left,x)\n",
    "        else:\n",
    "            self.create(root.right,x)\n",
    "t1=tree()\n",
    "t1.create(t1.root,10)\n",
    "t1.create(t1.root,5)\n",
    "t1.create(t1.root,1)\n",
    "t1.create(t1.root,7)\n",
    "t1.create(t1.root,6)\n",
    "t1.create(t1.root,8)\n",
    "t1.create(t1.root,20)\n",
    "t1.create(t1.root,25)"
   ]
  }
 ],
 "metadata": {
  "kernelspec": {
   "display_name": "Python 3 (ipykernel)",
   "language": "python",
   "name": "python3"
  },
  "language_info": {
   "codemirror_mode": {
    "name": "ipython",
    "version": 3
   },
   "file_extension": ".py",
   "mimetype": "text/x-python",
   "name": "python",
   "nbconvert_exporter": "python",
   "pygments_lexer": "ipython3",
   "version": "3.11.3"
  }
 },
 "nbformat": 4,
 "nbformat_minor": 5
}
