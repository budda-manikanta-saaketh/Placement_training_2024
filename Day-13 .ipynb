{
 "cells": [
  {
   "cell_type": "markdown",
   "id": "bf3a8418",
   "metadata": {},
   "source": [
    "# maximum making money from given hours and money respective "
   ]
  },
  {
   "cell_type": "code",
   "execution_count": 38,
   "id": "ec0bd73d",
   "metadata": {},
   "outputs": [
    {
     "name": "stdout",
     "output_type": "stream",
     "text": [
      "17\n"
     ]
    }
   ],
   "source": [
    "nums=[(1,3),(2,5),(4,6),(6,7),(5,8),(7,9)]\n",
    "a=[5,6,5,4,11,2]\n",
    "# b=a\n",
    "# # print(b)\n",
    "b=a.copy()\n",
    "for i in range(1,len(nums)):\n",
    "    for j in range(0,i):\n",
    "        if nums[j][1]<=nums[i][0] and b[i]<b[j]+a[i]:\n",
    "            b[i]=b[j]+a[i]\n",
    "print(max(b))  "
   ]
  },
  {
   "cell_type": "markdown",
   "id": "92d1d0dc",
   "metadata": {},
   "source": [
    "# converting reverse of commom string"
   ]
  },
  {
   "cell_type": "code",
   "execution_count": 12,
   "id": "5e442eb3",
   "metadata": {},
   "outputs": [
    {
     "name": "stdout",
     "output_type": "stream",
     "text": [
      "cba\n",
      "3\n"
     ]
    }
   ],
   "source": [
    "s1='abcd'\n",
    "s2='axbdc'\n",
    "s=\"\"\n",
    "m=[]\n",
    "for i in range(len(s1)+1):\n",
    "    l=[0]*(len(s2)+1)\n",
    "    m.append(l)\n",
    "for i in range(1,len(s1)+1):\n",
    "    for j in range(1,len(s2)+1):\n",
    "        if s1[i-1] == s2[j-1]:\n",
    "            m[i][j]=m[i-1][j-1]+1\n",
    "        else:\n",
    "            m[i][j]=max(m[i][j-1],m[i-1][j])\n",
    "            \n",
    "    \n",
    "s=''\n",
    "while(i!=0 and j!=0):\n",
    "        if s1[i-1]==s2[j-1]:\n",
    "            s=s+s1[i-1]\n",
    "            i=i-1\n",
    "            j=j-1\n",
    "        else:\n",
    "            if m[i][j]==m[i-1][j]:\n",
    "                i=i-1\n",
    "            else:\n",
    "                j=j-1\n",
    "print(s)\n",
    "print(m[len(s1)][len(s2)])"
   ]
  },
  {
   "cell_type": "markdown",
   "id": "d6905337",
   "metadata": {},
   "source": [
    "# number of Islands in given matrix"
   ]
  },
  {
   "cell_type": "code",
   "execution_count": 23,
   "id": "34039cf9",
   "metadata": {},
   "outputs": [
    {
     "name": "stdout",
     "output_type": "stream",
     "text": [
      "5\n"
     ]
    }
   ],
   "source": [
    "def num_islands(grid):\n",
    "    \n",
    "    if not grid:\n",
    "        return 0\n",
    "    \n",
    "    def dfs(grid, r, c):\n",
    "        if r < 0 or c < 0 or r >= len(grid) or c >= len(grid[0]) or grid[r][c] == 0:\n",
    "            return\n",
    "        grid[r][c] = 0\n",
    "        dfs(grid, r + 1, c)\n",
    "        dfs(grid, r - 1, c)\n",
    "        dfs(grid, r, c + 1)\n",
    "        dfs(grid, r, c - 1)\n",
    "    \n",
    "    num_islands = 0\n",
    "    for r in range(len(grid)):\n",
    "        for c in range(len(grid[0])):\n",
    "            if grid[r][c] == 1:\n",
    "                num_islands += 1\n",
    "                dfs(grid, r, c)\n",
    "    \n",
    "    return num_islands\n",
    "\n",
    "e = [[0,1,0,0,1],[1,0,0,1,1],[0,0,0,0,0],[1,0,0,0,0],[1,0,0,0,1]]\n",
    "\n",
    "print(num_islands(e))  \n"
   ]
  },
  {
   "cell_type": "markdown",
   "id": "76f1439a",
   "metadata": {},
   "source": [
    "# converting seconds to hours, minutes and seconds"
   ]
  },
  {
   "cell_type": "code",
   "execution_count": 39,
   "id": "c0fa9fa2",
   "metadata": {},
   "outputs": [
    {
     "name": "stdout",
     "output_type": "stream",
     "text": [
      "0 h: 10 m: 7 sec\n"
     ]
    }
   ],
   "source": [
    "n=607\n",
    "h=0\n",
    "m=0\n",
    "s=0\n",
    "if n>=3600:\n",
    "    h=n//3600\n",
    "    n=n%3600\n",
    "if n>=60 and n<3600:\n",
    "    m=n//60\n",
    "    n=n%60\n",
    "s=n\n",
    "print(h,\"h:\",m,\"m:\",s,\"sec\")"
   ]
  },
  {
   "cell_type": "markdown",
   "id": "adca983e",
   "metadata": {},
   "source": [
    "# converting given days to years,months and days"
   ]
  },
  {
   "cell_type": "code",
   "execution_count": 5,
   "id": "0c85a3ba",
   "metadata": {},
   "outputs": [
    {
     "name": "stdout",
     "output_type": "stream",
     "text": [
      "181 years 6 months 1 weeks 1 days\n"
     ]
    }
   ],
   "source": [
    "y,m,w,d=0,0,0,0\n",
    "n=65476\n",
    "if n>=360:\n",
    "    y=n//360\n",
    "    n=n//360\n",
    "if n>=30 and n<360:\n",
    "    m=n//30\n",
    "    n=n//30\n",
    "if n>=6 and n<30:\n",
    "    w=n//6\n",
    "    n=n//6\n",
    "d=n\n",
    "print(y,\"years\",m,\"months\",w,\"weeks\",d,\"days\")"
   ]
  }
 ],
 "metadata": {
  "kernelspec": {
   "display_name": "Python 3 (ipykernel)",
   "language": "python",
   "name": "python3"
  },
  "language_info": {
   "codemirror_mode": {
    "name": "ipython",
    "version": 3
   },
   "file_extension": ".py",
   "mimetype": "text/x-python",
   "name": "python",
   "nbconvert_exporter": "python",
   "pygments_lexer": "ipython3",
   "version": "3.11.3"
  }
 },
 "nbformat": 4,
 "nbformat_minor": 5
}
