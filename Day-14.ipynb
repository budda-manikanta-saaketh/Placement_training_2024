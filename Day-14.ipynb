{
 "cells": [
  {
   "cell_type": "markdown",
   "id": "77a3e44f",
   "metadata": {},
   "source": [
    "# trap water between buildings"
   ]
  },
  {
   "cell_type": "code",
   "execution_count": 2,
   "id": "d0011da2",
   "metadata": {},
   "outputs": [
    {
     "name": "stdout",
     "output_type": "stream",
     "text": [
      "5\n"
     ]
    }
   ],
   "source": [
    "def trap_water(heights):\n",
    "    if len(heights) == 0:\n",
    "        return 0\n",
    "    \n",
    "    left = 0\n",
    "    right = len(heights) - 1\n",
    "    left_max = heights[left]\n",
    "    right_max = heights[right]\n",
    "    water_trapped = 0\n",
    "    \n",
    "    while left < right:\n",
    "        if heights[left] < heights[right]:\n",
    "            left += 1\n",
    "            left_max = max(left_max, heights[left])\n",
    "            water_trapped += left_max - heights[left]\n",
    "        else:\n",
    "            right -= 1\n",
    "            right_max = max(right_max, heights[right])\n",
    "            water_trapped += right_max - heights[right]\n",
    "    \n",
    "    return water_trapped\n",
    "\n",
    "#heights = [2, 5, 2, 3, 6, 7, 1, 0, 5]\n",
    "# heights = [4,3,4,5,6,1,0,6,7]\n",
    "heights = [9,4,5,6,2,4]\n",
    "water_units = trap_water(heights)\n",
    "print(water_units)"
   ]
  },
  {
   "cell_type": "code",
   "execution_count": 1,
   "id": "2045c9d9",
   "metadata": {},
   "outputs": [
    {
     "name": "stdout",
     "output_type": "stream",
     "text": [
      "1\n"
     ]
    }
   ],
   "source": [
    "def fun():\n",
    "    l1=[-1]*(n+1)\n",
    "    l1[0]=0\n",
    "    for i in l:\n",
    "        for j in range(1,n+1):\n",
    "            if j>=i:\n",
    "                if l1[j-i]!=-1:\n",
    "                    if l1[j]!=-1:\n",
    "                        l1[j]=min(l1[j],l1[j-1]+1)\n",
    "                    else:\n",
    "                        l1[j]=l1[j-i]+1\n",
    "    print(l1[-1])\n",
    "l=[3,4,5]\n",
    "n=5\n",
    "fun()"
   ]
  },
  {
   "cell_type": "markdown",
   "id": "f2be8291",
   "metadata": {},
   "source": [
    "# count no.of paths in grid"
   ]
  },
  {
   "cell_type": "code",
   "execution_count": 1,
   "id": "50b81472",
   "metadata": {},
   "outputs": [
    {
     "name": "stdout",
     "output_type": "stream",
     "text": [
      "32\n"
     ]
    }
   ],
   "source": [
    "def fun(i, j, c, n, m, k, l, visited):\n",
    "    if i < 0 or i >= n or j < 0 or j >= m or (i == k and j == l) or visited[i][j]:\n",
    "        return c\n",
    "\n",
    "    if i == n-1 and j == m-1:\n",
    "        return c + 1\n",
    "\n",
    "    visited[i][j] = True\n",
    "\n",
    "    c = fun(i-1, j, c, n, m, k, l, visited)  \n",
    "    c = fun(i+1, j, c, n, m, k, l, visited) \n",
    "    c = fun(i, j-1, c, n, m, k, l, visited)  \n",
    "    c = fun(i, j+1, c, n, m, k, l, visited)  \n",
    "\n",
    "    visited[i][j] = False\n",
    "\n",
    "    return c\n",
    "\n",
    "\n",
    "n = 4 \n",
    "m = 4 \n",
    "k = 2 \n",
    "l = 2  \n",
    "\n",
    "visited = [[False for _ in range(m)] for _ in range(n)]\n",
    "\n",
    "result = fun(0, 0, 0, n, m, k, l, visited)\n",
    "print(result)\n"
   ]
  }
 ],
 "metadata": {
  "kernelspec": {
   "display_name": "Python 3 (ipykernel)",
   "language": "python",
   "name": "python3"
  },
  "language_info": {
   "codemirror_mode": {
    "name": "ipython",
    "version": 3
   },
   "file_extension": ".py",
   "mimetype": "text/x-python",
   "name": "python",
   "nbconvert_exporter": "python",
   "pygments_lexer": "ipython3",
   "version": "3.11.3"
  }
 },
 "nbformat": 4,
 "nbformat_minor": 5
}
