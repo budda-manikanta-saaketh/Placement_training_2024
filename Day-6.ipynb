{
 "cells": [
  {
   "cell_type": "markdown",
   "id": "dffb4ff0",
   "metadata": {},
   "source": [
    "# Double Linked List"
   ]
  },
  {
   "cell_type": "markdown",
   "id": "1878142e",
   "metadata": {},
   "source": [
    "## Add back\n",
    "## display\n",
    "## valid Paranthesis\n",
    "## even values sum and odd values sum"
   ]
  },
  {
   "cell_type": "code",
   "execution_count": 7,
   "id": "4d0b663d",
   "metadata": {},
   "outputs": [
    {
     "name": "stdout",
     "output_type": "stream",
     "text": [
      "1->2->3->4->5->6->\n",
      "Balance\n",
      "(12, 9)\n"
     ]
    }
   ],
   "source": [
    "class Node:\n",
    "    def __init__(self,n):\n",
    "        self.data=n\n",
    "        self.next=None\n",
    "        self.prev=None\n",
    "class dll:\n",
    "    def __init__(self):\n",
    "        self.head=None\n",
    "        self.tail=None\n",
    "    def addback(self,x):\n",
    "        if self.head==None:\n",
    "            self.head=Node(x)\n",
    "            self.tail=self.head\n",
    "        else:\n",
    "            t=Node(x)\n",
    "            self.tail.next=t\n",
    "            t.prev=self.tail\n",
    "            self.tail=self.tail.next\n",
    "    def display(self):\n",
    "        t=self.head\n",
    "        while t!=None:\n",
    "            print(t.data,end=\"->\")\n",
    "            t=t.next\n",
    "        print()\n",
    "    def valid_paranthesis(self):\n",
    "        t=self.head\n",
    "        d={'(':')','[':']','{':'}'}\n",
    "        s=[]\n",
    "        b=True\n",
    "        while t:\n",
    "            if t.data in d:\n",
    "                s.append(t.data)\n",
    "            elif t.data in d.values():\n",
    "                \n",
    "                if  not s or d[s.pop()]!=t.data:\n",
    "                    b=False\n",
    "            t=t.next\n",
    "        if b and not s:\n",
    "            print('Balance')\n",
    "        else:\n",
    "            print('Not Balance')\n",
    "            \n",
    "    def es_os(self,t,es=0,os=0):\n",
    "        if t is None:\n",
    "            return es,os\n",
    "        if t is  not None:\n",
    "            if t.data%2==0:\n",
    "                es+=t.data\n",
    "            else:\n",
    "                os+=t.data\n",
    "        return self.es_os(t.next,es,os)\n",
    "    \n",
    "        \n",
    "        \n",
    "l=dll()\n",
    "l.addback(1)\n",
    "l.addback(2)\n",
    "l.addback(3)\n",
    "l.addback(4)\n",
    "l.addback(5)\n",
    "l.addback(6)\n",
    "l.display()\n",
    "l.valid_paranthesis()\n",
    "t=l.head\n",
    "print(l.es_os(t))"
   ]
  }
 ],
 "metadata": {
  "kernelspec": {
   "display_name": "Python 3 (ipykernel)",
   "language": "python",
   "name": "python3"
  },
  "language_info": {
   "codemirror_mode": {
    "name": "ipython",
    "version": 3
   },
   "file_extension": ".py",
   "mimetype": "text/x-python",
   "name": "python",
   "nbconvert_exporter": "python",
   "pygments_lexer": "ipython3",
   "version": "3.11.3"
  }
 },
 "nbformat": 4,
 "nbformat_minor": 5
}
