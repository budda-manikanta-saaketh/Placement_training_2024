{
 "cells": [
  {
   "cell_type": "markdown",
   "id": "491a4e09",
   "metadata": {},
   "source": [
    "# Combinations of triplets"
   ]
  },
  {
   "cell_type": "code",
   "execution_count": 37,
   "id": "a9039bb6",
   "metadata": {},
   "outputs": [
    {
     "name": "stdout",
     "output_type": "stream",
     "text": [
      "[3, 2, 5]\n",
      "[3, 2, 4]\n",
      "[3, 2, 1]\n",
      "[3, 2, 6]\n",
      "[3, 2, 8]\n",
      "[3, 5, 4]\n",
      "[3, 5, 1]\n",
      "[3, 5, 6]\n",
      "[3, 5, 8]\n",
      "[3, 4, 1]\n",
      "[3, 4, 6]\n",
      "[3, 4, 8]\n",
      "[3, 1, 6]\n",
      "[3, 1, 8]\n",
      "[3, 6, 8]\n",
      "[2, 5, 4]\n",
      "[2, 5, 1]\n",
      "[2, 5, 6]\n",
      "[2, 5, 8]\n",
      "[2, 4, 1]\n",
      "[2, 4, 6]\n",
      "[2, 4, 8]\n",
      "[2, 1, 6]\n",
      "[2, 1, 8]\n",
      "[2, 6, 8]\n",
      "[5, 4, 1]\n",
      "[5, 4, 6]\n",
      "[5, 4, 8]\n",
      "[5, 1, 6]\n",
      "[5, 1, 8]\n",
      "[5, 6, 8]\n",
      "[4, 1, 6]\n",
      "[4, 1, 8]\n",
      "[4, 6, 8]\n",
      "[1, 6, 8]\n"
     ]
    }
   ],
   "source": [
    "li=[3,2,5,4,1,6,8]\n",
    "def combination(l,k):\n",
    "    def fun(curr,start):\n",
    "        if len(curr)==k:\n",
    "            print(curr)\n",
    "            return\n",
    "        for i in range(start,len(l)):\n",
    "            fun(curr+[li[i]],i+1)\n",
    "        return\n",
    "    fun([],0)\n",
    "li=[3,2,5,4,1,6,8]\n",
    "k=3\n",
    "combination(li,k)"
   ]
  },
  {
   "cell_type": "markdown",
   "id": "b6e79b76",
   "metadata": {},
   "source": [
    "# rotating the given string and checking another string is present or not"
   ]
  },
  {
   "cell_type": "code",
   "execution_count": 65,
   "id": "25c98aeb",
   "metadata": {},
   "outputs": [
    {
     "name": "stdout",
     "output_type": "stream",
     "text": [
      "school\n",
      "3\n",
      "L2 R3 L1\n",
      "[['c', 'h', 's'], ['c', 'h', 'o'], ['h', 'o', 'o'], ['l', 'o', 'o']]\n",
      "['c', 'h', 'o']\n",
      "yes\n"
     ]
    }
   ],
   "source": [
    "s=input()\n",
    "k=int(input())\n",
    "li=list(input().split(\" \"))\n",
    "sub_str=[]\n",
    "val=[]\n",
    "st=''\n",
    "\n",
    "for i in range(len(li)):\n",
    "    v=int(li[i][1])\n",
    "    if li[i][0]=='L':\n",
    "        val.append(s[v:]+s[:v])\n",
    "    else:\n",
    "        val.append(s[v:]+s[:v])\n",
    "        \n",
    "for i in range(len(s)-k+1):\n",
    "    sub_str.append(sorted(list(s[i:i+k])))\n",
    "    \n",
    "for i in range(len(val)):\n",
    "    st=st+val[i][0]\n",
    "st=sorted(list(st))\n",
    "    \n",
    "print(sub_str)\n",
    "print(st)\n",
    "    \n",
    "c=0\n",
    "for i in sub_str:\n",
    "    if i==st:\n",
    "        print(\"yes\")\n",
    "        c=1\n",
    "        break\n",
    "if c==0:\n",
    "    print(\"No\")"
   ]
  },
  {
   "cell_type": "markdown",
   "id": "16993ff2",
   "metadata": {},
   "source": [
    "# representing give number as sum of 2 primes"
   ]
  },
  {
   "cell_type": "code",
   "execution_count": 70,
   "id": "6b811143",
   "metadata": {},
   "outputs": [
    {
     "name": "stdout",
     "output_type": "stream",
     "text": [
      "12\n",
      "true 1 11\n",
      "true 5 7\n",
      "true 7 5\n",
      "true 11 1\n"
     ]
    }
   ],
   "source": [
    "def prime(n1):\n",
    "    for i in range(2,n1//2):\n",
    "        if n1%i==0:\n",
    "            return 0\n",
    "    return 1\n",
    "n=int(input())\n",
    "c=c1=0\n",
    "for i in range(1,n):\n",
    "    c=prime(i)\n",
    "    c1=prime(n-i)\n",
    "    if c and c1:\n",
    "        print(\"true\",i,n-i)   "
   ]
  },
  {
   "cell_type": "markdown",
   "id": "e7bdeb7d",
   "metadata": {},
   "source": [
    " # "
   ]
  },
  {
   "cell_type": "markdown",
   "id": "00baaeb7",
   "metadata": {},
   "source": [
    "# decoding the word with given lexicographical order"
   ]
  },
  {
   "cell_type": "code",
   "execution_count": 2,
   "id": "e9657f83",
   "metadata": {},
   "outputs": [
    {
     "name": "stdout",
     "output_type": "stream",
     "text": [
      "polikujmnhytgbvfredcxswqaz\n",
      "abcd\n",
      "bdca\n"
     ]
    }
   ],
   "source": [
    "s=input()\n",
    "check=input()\n",
    "res=''\n",
    "for i in s:\n",
    "    if i in check:\n",
    "        res+=i*s.count(i)\n",
    "print(res)"
   ]
  },
  {
   "cell_type": "code",
   "execution_count": 2,
   "id": "652f2bd1",
   "metadata": {},
   "outputs": [
    {
     "name": "stdout",
     "output_type": "stream",
     "text": [
      "13\n"
     ]
    }
   ],
   "source": [
    "li=[13,9,4,10,5,7]\n",
    "max_=0\n",
    "i=0\n",
    "p=0\n",
    "res=0\n",
    "while(i<len(li)-3):\n",
    "    p=max(li[i],li[i+1])\n",
    "    res+=p\n",
    "    if p!=li[i]:\n",
    "        i=i+2\n",
    "    else:\n",
    "        i=i+3\n",
    "print(res)"
   ]
  },
  {
   "cell_type": "markdown",
   "id": "a40ca3d5",
   "metadata": {},
   "source": [
    "#  getting maximum sum from list without taking adjacent elements"
   ]
  },
  {
   "cell_type": "code",
   "execution_count": null,
   "id": "95a68a02",
   "metadata": {},
   "outputs": [],
   "source": [
    "def max_sum(arr, i=0, pick=True):\n",
    "    if i>=len(arr): \n",
    "        return 0\n",
    "    if pick:\n",
    "        p = arr[i]+max_sum(arr, i + 2, True)\n",
    "        d = max_sum(arr, i + 1, True)\n",
    "        return max(p, d)\n",
    "    else:\n",
    "        return max_sum(arr, i + 1, True)\n",
    "\n",
    "k = [13, 9, 4, 10, 5, 7]\n",
    "print(max_sum(k))"
   ]
  },
  {
   "cell_type": "code",
   "execution_count": 7,
   "id": "95c99ac2",
   "metadata": {},
   "outputs": [
    {
     "name": "stdout",
     "output_type": "stream",
     "text": [
      "30\n"
     ]
    }
   ],
   "source": [
    "def rec(l):\n",
    "    if len(l)==0:\n",
    "        return 0\n",
    "    if len(l)==1:\n",
    "        return l[0]\n",
    "    if len(l)==2:\n",
    "        return max(l)\n",
    "    left=l[0]+rec(l[2:])\n",
    "    right=l[1]+rec(l[3:])\n",
    "    return max(left,right)\n",
    "li=[13,9,4,10,5,7]\n",
    "print(rec(li))"
   ]
  }
 ],
 "metadata": {
  "kernelspec": {
   "display_name": "Python 3 (ipykernel)",
   "language": "python",
   "name": "python3"
  },
  "language_info": {
   "codemirror_mode": {
    "name": "ipython",
    "version": 3
   },
   "file_extension": ".py",
   "mimetype": "text/x-python",
   "name": "python",
   "nbconvert_exporter": "python",
   "pygments_lexer": "ipython3",
   "version": "3.11.3"
  }
 },
 "nbformat": 4,
 "nbformat_minor": 5
}
