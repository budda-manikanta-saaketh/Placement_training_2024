{
 "cells": [
  {
   "cell_type": "markdown",
   "id": "d3ab576e",
   "metadata": {},
   "source": [
    "# N Queens"
   ]
  },
  {
   "cell_type": "code",
   "execution_count": null,
   "id": "5e35845d",
   "metadata": {},
   "outputs": [],
   "source": [
    "def is_safe(board, row, col):\n",
    "    \n",
    "    for i in range(row):\n",
    "        if board[i] == col:\n",
    "            return False\n",
    "\n",
    "    for i, j in zip(range(row, -1, -1), range(col, -1, -1)):\n",
    "        if board[i] == j:\n",
    "            return False\n",
    "\n",
    "    for i, j in zip(range(row, -1, -1), range(col, len(board))):\n",
    "        if board[i] == j:\n",
    "            return False\n",
    "\n",
    "    return True\n",
    "\n",
    "def solve_nqueens_util(board, row):\n",
    "    if row >= len(board):\n",
    "        return True\n",
    "\n",
    "    for col in range(len(board)):\n",
    "        if is_safe(board, row, col):\n",
    "            board[row] = col\n",
    "            if solve_nqueens_util(board, row + 1):\n",
    "                return True\n",
    "            # Backtrack\n",
    "            board[row] = -1\n",
    "\n",
    "    return False\n",
    "\n",
    "def solve_nqueens(n):\n",
    "    board = [-1] * n\n",
    "    if solve_nqueens_util(board, 0):\n",
    "        return board\n",
    "    else:\n",
    "        return None\n",
    "\n",
    "def print_solution(board):\n",
    "    n = len(board)\n",
    "    for i in range(n):\n",
    "        row = ['.'] * n\n",
    "        row[board[i]] = 'Q'\n",
    "        print(' '.join(row))\n",
    "\n",
    "# Example Usage\n",
    "n = 8\n",
    "solution = solve_nqueens(n)\n",
    "if solution:\n",
    "    print_solution(solution)\n",
    "else:\n",
    "    print(\"No solution exists for the given N.\")\n",
    "def is_safe(board, row, col):\n",
    "    # Check if there's a queen in the same column\n",
    "    for i in range(row):\n",
    "        if board[i] == col:\n",
    "            return False\n",
    "\n",
    "    # Check upper-left diagonal\n",
    "    for i, j in zip(range(row, -1, -1), range(col, -1, -1)):\n",
    "        if board[i] == j:\n",
    "            return False\n",
    "\n",
    "    # Check upper-right diagonal\n",
    "    for i, j in zip(range(row, -1, -1), range(col, len(board))):\n",
    "        if board[i] == j:\n",
    "            return False\n",
    "\n",
    "    return True\n",
    "\n",
    "def solve_nqueens_util(board, row):\n",
    "    if row >= len(board):\n",
    "        return True\n",
    "\n",
    "    for col in range(len(board)):\n",
    "        if is_safe(board, row, col):\n",
    "            board[row] = col\n",
    "            if solve_nqueens_util(board, row + 1):\n",
    "                return True\n",
    "            # Backtrack\n",
    "            board[row] = -1\n",
    "\n",
    "    return False\n",
    "\n",
    "def solve_nqueens(n):\n",
    "    board = [-1] * n\n",
    "    if solve_nqueens_util(board, 0):\n",
    "        return board\n",
    "    else:\n",
    "        return None\n",
    "\n",
    "def print_solution(board):\n",
    "    n = len(board)\n",
    "    for i in range(n):\n",
    "        row = ['.'] * n\n",
    "        row[board[i]] = 'Q'\n",
    "        print(' '.join(row))\n",
    "\n",
    "# Example Usage\n",
    "n = 8\n",
    "solution = solve_nqueens(n)\n",
    "if solution:\n",
    "    print_solution(solution)\n",
    "else:\n",
    "    print(\"No solution exists for the given N.\")\n"
   ]
  },
  {
   "cell_type": "code",
   "execution_count": null,
   "id": "5719e15f",
   "metadata": {},
   "outputs": [],
   "source": [
    "def queen(r):\n",
    "    if r == n:\n",
    "        return \n",
    "    for c in range(n):\n",
    "        if check(r, c):\n",
    "            m[r][c] = 1\n",
    "            queen(r + 1)\n",
    "            return  \n",
    "    return  \n",
    "\n",
    "def check(i, j):\n",
    "    \n",
    "    if i == u or j == v:\n",
    "        return False\n",
    "    \n",
    "\n",
    "    for k in range(i):\n",
    "        if m[k][j] == 1:\n",
    "            return False\n",
    "    \n",
    "\n",
    "    r, c = i, j\n",
    "    while r >= 0 and c >= 0:\n",
    "        if m[r][c] == 1:\n",
    "            return False\n",
    "        r -= 1\n",
    "        c -= 1\n",
    "    \n",
    "  \n",
    "    r, c = i, j\n",
    "    while r >= 0 and c < n:\n",
    "        if m[r][c] == 1:\n",
    "            return False\n",
    "        r -= 1\n",
    "        c += 1\n",
    "    \n",
    "    return True\n",
    "\n",
    "n = 5\n",
    "u = 1\n",
    "v = 3\n",
    "m = [[0] * n for _ in range(n)] \n",
    "\n",
    "queen(0)\n",
    "print(m)"
   ]
  },
  {
   "cell_type": "markdown",
   "id": "a384f9b6",
   "metadata": {},
   "source": [
    "# no.of buildings getting sunlight during Sun rise and sunsets "
   ]
  },
  {
   "cell_type": "code",
   "execution_count": 17,
   "id": "c35178f2",
   "metadata": {},
   "outputs": [
    {
     "name": "stdout",
     "output_type": "stream",
     "text": [
      "4 1\n"
     ]
    }
   ],
   "source": [
    " li=[3,5,9,6,8,10]\n",
    "# li=[3,4,5,10,4,3]\n",
    "left=1\n",
    "right=len(li)-1\n",
    "\n",
    "sr=1\n",
    "ss=1\n",
    "\n",
    "a=li[0]\n",
    "b=li[right]\n",
    "\n",
    "while left<len(li) and right>=0:\n",
    "    if a<li[left]:\n",
    "        sr+=1\n",
    "        a=li[left]\n",
    "        left+=1\n",
    "    else:\n",
    "        left+=1\n",
    "    if b<li[right]:\n",
    "        ss+=1\n",
    "        b=li[right]\n",
    "        right-=1\n",
    "    else:\n",
    "        right-=1\n",
    "print(sr,ss)        "
   ]
  },
  {
   "cell_type": "markdown",
   "id": "9e1ff953",
   "metadata": {},
   "source": [
    "# using recursions"
   ]
  },
  {
   "cell_type": "code",
   "execution_count": null,
   "id": "ff827ed3",
   "metadata": {},
   "outputs": [],
   "source": [
    "def count(li, left, right, a, b, sr, ss):\n",
    "    if left > right:\n",
    "        return sr, ss\n",
    "    if a < li[left]:\n",
    "        sr += 1\n",
    "        a = li[left]\n",
    "\n",
    "    if b < li[right]:\n",
    "        ss += 1\n",
    "        b = li[right]\n",
    "\n",
    "    return count(li, left + 1, right - 1, a, b, sr, ss)\n",
    "\n",
    "li = [3, 5, 9, 6, 8, 10]\n",
    "left = 1\n",
    "right = len(li) - 2\n",
    "a = li[0]\n",
    "b = li[-1]\n",
    "sr = 1\n",
    "ss = 1\n",
    "\n",
    "sr, ss = count(li, left, right, a, b, sr, ss)\n",
    "\n",
    "print(sr, ss)\n"
   ]
  },
  {
   "cell_type": "markdown",
   "id": "6149bd8b",
   "metadata": {},
   "source": [
    "# min no.of coins required for making target"
   ]
  },
  {
   "cell_type": "code",
   "execution_count": 21,
   "id": "3eaef007",
   "metadata": {},
   "outputs": [
    {
     "name": "stdout",
     "output_type": "stream",
     "text": [
      "[1, 0, 1, 1, 1, 2, 3, 2]\n",
      "True\n"
     ]
    }
   ],
   "source": [
    "def coins(c, t):\n",
    "    dp=[0]*(t + 1)\n",
    "    dp[0]=1  \n",
    "    for i in c:\n",
    "        for j in range(i, t+1):\n",
    "            dp[j] += dp[j-i]\n",
    "            \n",
    "    print(dp)\n",
    "    if dp[t] > 0:\n",
    "        return True\n",
    "    else:\n",
    "        return False\n",
    "\n",
    "c = [2, 3, 5, 6]\n",
    "t = 7\n",
    "print(coins(c,t))"
   ]
  },
  {
   "cell_type": "markdown",
   "id": "9a662c4a",
   "metadata": {},
   "source": [
    "# taking numbers from string and displaying largest even number"
   ]
  },
  {
   "cell_type": "code",
   "execution_count": 44,
   "id": "27a44d9d",
   "metadata": {},
   "outputs": [
    {
     "name": "stdout",
     "output_type": "stream",
     "text": [
      "['5', '2', '1', '8', '6', '3']\n",
      "865312\n"
     ]
    }
   ],
   "source": [
    "s1='tu5g2k1h8'\n",
    "s2='g5g8gd6h3'\n",
    "nu=[]\n",
    "for i in s1:\n",
    "    if i.isdigit() and i not in nu:\n",
    "        nu.append(i)\n",
    "for i in s2:\n",
    "    if i.isdigit() and i not in nu:\n",
    "        nu.append(i)\n",
    "print(nu)\n",
    "a=sorted(nu)\n",
    "b=a[::-1]\n",
    "if int(b[-1])%2==0:\n",
    "    print(''.join(b))\n",
    "else:\n",
    "    for i in range(len(b)-2,-1,-1):\n",
    "        if int(b[i])%2==0:\n",
    "            b.append(b.pop(i))\n",
    "            print(''.join(b))\n",
    "            break\n",
    "    else:\n",
    "        print(-1)\n"
   ]
  },
  {
   "cell_type": "markdown",
   "id": "52a52109",
   "metadata": {},
   "source": [
    "# displaying next palindrome for given number"
   ]
  },
  {
   "cell_type": "code",
   "execution_count": 1,
   "id": "4e19ed56",
   "metadata": {},
   "outputs": [
    {
     "name": "stdout",
     "output_type": "stream",
     "text": [
      "Enter a number: 123456\n",
      "The next palindrome is: 124421\n"
     ]
    }
   ],
   "source": [
    "def is_palindrome(num):\n",
    "    original = num\n",
    "    reversed = 0\n",
    "    \n",
    "    while num > 0:\n",
    "        digit = num % 10\n",
    "        reversed = reversed * 10 + digit\n",
    "        num = num // 10\n",
    "        \n",
    "    return original == reversed\n",
    "\n",
    "def next_palindrome(num):\n",
    "    num += 1\n",
    "    while not is_palindrome(num):\n",
    "        num += 1\n",
    "    return num\n",
    "\n",
    "\n",
    "user_input = int(input(\"Enter a number: \"))\n",
    "\n",
    "result = next_palindrome(user_input)\n",
    "print(\"The next palindrome is:\", result)"
   ]
  }
 ],
 "metadata": {
  "kernelspec": {
   "display_name": "Python 3 (ipykernel)",
   "language": "python",
   "name": "python3"
  },
  "language_info": {
   "codemirror_mode": {
    "name": "ipython",
    "version": 3
   },
   "file_extension": ".py",
   "mimetype": "text/x-python",
   "name": "python",
   "nbconvert_exporter": "python",
   "pygments_lexer": "ipython3",
   "version": "3.11.3"
  }
 },
 "nbformat": 4,
 "nbformat_minor": 5
}
