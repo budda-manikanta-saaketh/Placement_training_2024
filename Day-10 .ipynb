{
 "cells": [
  {
   "cell_type": "markdown",
   "id": "59403e14",
   "metadata": {},
   "source": [
    "# print the sum of the prime numbers in the range of adjacent elements in list "
   ]
  },
  {
   "cell_type": "code",
   "execution_count": 18,
   "id": "8dec100a",
   "metadata": {},
   "outputs": [
    {
     "name": "stdout",
     "output_type": "stream",
     "text": [
      "[0, 19, 0]\n",
      "19\n"
     ]
    }
   ],
   "source": [
    "def check_prime(n):\n",
    "    for i in range(2,(n//2)+1):\n",
    "        if n%i==0:\n",
    "            return 0\n",
    "    return 1\n",
    "\n",
    "def lar_prime(n1,n2):\n",
    "    for i in range(n2-1,n1,-1):\n",
    "        if check_prime(i):\n",
    "            return i\n",
    "    return 0\n",
    "        \n",
    "li=[14,16,20,22]\n",
    "# li=[1,5,9,44,56,64]\n",
    "res=[]\n",
    "\n",
    "for i in range(len(li)-1):\n",
    "    res.append(lar_prime(li[i],li[i+1]))\n",
    "print(res)\n",
    "print(sum(res))\n"
   ]
  },
  {
   "cell_type": "markdown",
   "id": "1ddbb97d",
   "metadata": {},
   "source": [
    "# sorting three elements using sliding window algorithm"
   ]
  },
  {
   "cell_type": "code",
   "execution_count": 56,
   "id": "99af9e3d",
   "metadata": {},
   "outputs": [
    {
     "name": "stdout",
     "output_type": "stream",
     "text": [
      "[4, 9, 8, 2, 14, 3, 5, 6]\n",
      "[4, 2, 8, 3, 5, 6, 9, 14]\n"
     ]
    }
   ],
   "source": [
    "# li=[9,5,6,3,8,2,1]\n",
    "li=[4,9,8,2,14,3,5,6]\n",
    "print(li)\n",
    "m=[0]*3\n",
    "\n",
    "for l in range(len(li)-2):\n",
    "    c=li[l:l+3]\n",
    "    \n",
    "#     for i in range(2):\n",
    "#         for j in range(2-i):\n",
    "#             if m[j]>m[j+1]:\n",
    "#                 m[j],m[j+1]=m[j+1],m[j]\n",
    "\n",
    "    s=sum(c)\n",
    "    m[0]=min(c)\n",
    "    m[2]=max(c)\n",
    "    m[1]=s-m[0]-m[2]\n",
    "    \n",
    "                \n",
    "    v=0\n",
    "    for k in range(l,l+3):\n",
    "        li[k]=m[v]\n",
    "        v+=1\n",
    "\n",
    "print(li)"
   ]
  },
  {
   "cell_type": "markdown",
   "id": "5ec0843b",
   "metadata": {},
   "source": [
    "# printing the value if the length of the word present in it or else checking for lower"
   ]
  },
  {
   "cell_type": "code",
   "execution_count": 5,
   "id": "b87ab5f9",
   "metadata": {},
   "outputs": [
    {
     "name": "stdout",
     "output_type": "stream",
     "text": [
      "[['hello', '5438'], ['car', '214'], ['book', '8799'], ['apple', '2187']]\n",
      "oaxp"
     ]
    }
   ],
   "source": [
    "inp=\"hello:5438,car:214,book:8799,apple:2187\"\n",
    "b=inp.split(\",\")\n",
    "s=[]\n",
    "for i in range(len(b)):\n",
    "    s.append(b[i].split(\":\"))\n",
    "print(s)\n",
    "\n",
    "\n",
    "for i in range(len(s)):\n",
    "    \n",
    "    k= str(len(s[i][0]))\n",
    "    \n",
    "    if k in s[i][1]:\n",
    "        print(s[i][0][int(k)-1],end='')\n",
    "        continue\n",
    "    \n",
    "        \n",
    "    ch=int(str(int(k)-1))\n",
    "    \n",
    "    while(ch):\n",
    "        if str(ch) in s[i][1]:\n",
    "            print(s[i][0][int(ch)-1],end='')\n",
    "            break\n",
    "        ch-=1\n",
    "        \n",
    "    if ch==0:\n",
    "        print('x',end='')"
   ]
  },
  {
   "cell_type": "markdown",
   "id": "06d0728d",
   "metadata": {},
   "source": [
    "# left,top and right views of Tree"
   ]
  },
  {
   "cell_type": "code",
   "execution_count": 11,
   "id": "5b9c1f91",
   "metadata": {},
   "outputs": [
    {
     "name": "stdout",
     "output_type": "stream",
     "text": [
      "left view:\n",
      "10\n",
      "5\n",
      "4\n",
      "6\n",
      "9\n",
      "right view:\n",
      "10\n",
      "20\n",
      "25\n",
      "23\n",
      "9\n",
      "\n",
      "10 5 4 8 9 "
     ]
    }
   ],
   "source": [
    "class Node:\n",
    "    def __init__(self, u):\n",
    "        self.data = u\n",
    "        self.left = None\n",
    "        self.right = None\n",
    "\n",
    "class Tree:\n",
    "    def __init__(self):\n",
    "        self.root = None\n",
    "\n",
    "    def create(self, root, x):\n",
    "        if root is None:\n",
    "            return Node(x)\n",
    "        elif root.data > x:\n",
    "            root.left = self.create(root.left, x)\n",
    "        else:\n",
    "            root.right = self.create(root.right, x)\n",
    "        return root\n",
    "    \n",
    "    def left_view(self,root,c,li):\n",
    "        if root==None:\n",
    "            return \n",
    "        if c not in li:\n",
    "            print(root.data)\n",
    "            li.append(c)\n",
    "        self.left_view(root.left,c+1,li)\n",
    "        self.left_view(root.right,c+1,li)\n",
    "        \n",
    "        \n",
    "        \n",
    "    def right_view(self,root,c,li):\n",
    "        if root==None:\n",
    "            return \n",
    "        if c not in li:\n",
    "            print(root.data)\n",
    "            li.append(c)\n",
    "        self.right_view(root.right,c+1,li)\n",
    "        self.right_view(root.left,c+1,li)   \n",
    "        \n",
    "        \n",
    "    def top_view(self,root,c,dict1):\n",
    "        if root==None:\n",
    "            return \n",
    "        if c not in dict1:\n",
    "            print(root.data,end=\" \")\n",
    "            dict1.update({c:root.data})\n",
    "        self.top_view(root.left,c+1,dict1)  \n",
    "        self.top_view(root.right,c-1,dict1)\n",
    "    \n",
    "\n",
    "t1 = Tree()\n",
    "t1.root = t1.create(t1.root, 10)\n",
    "t1.root = t1.create(t1.root, 5)\n",
    "t1.root = t1.create(t1.root,20)\n",
    "t1.root = t1.create(t1.root, 7)\n",
    "t1.root = t1.create(t1.root, 4)\n",
    "t1.root = t1.create(t1.root, 8)\n",
    "t1.root = t1.create(t1.root, 25)\n",
    "t1.root = t1.create(t1.root, 6)\n",
    "t1.root = t1.create(t1.root, 19)\n",
    "t1.root = t1.create(t1.root, 23)\n",
    "t1.root = t1.create(t1.root, 9)\n",
    "\n",
    "li=[]\n",
    "print(\"left view:\")\n",
    "t1.left_view(t1.root,0,li)\n",
    "\n",
    "\n",
    "li=[]\n",
    "print(\"right view:\")\n",
    "t1.right_view(t1.root,0,li)\n",
    "\n",
    "\n",
    "print()\n",
    "dict1={}\n",
    "t1.top_view(t1.root,0,dict1)\n",
    "# print(\"Preorder traversal: \")\n",
    "# t1.preorder(t1.root)\n",
    "# print(\"\\nInorder traversal: \")\n",
    "# t1.inorder(t1.root)\n",
    "# print(\"\\nPostorder traversal: \")\n",
    "# t1.postorder(t1.root)\n",
    "# print()\n",
    "# print(\"difference be"
   ]
  }
 ],
 "metadata": {
  "kernelspec": {
   "display_name": "Python 3 (ipykernel)",
   "language": "python",
   "name": "python3"
  },
  "language_info": {
   "codemirror_mode": {
    "name": "ipython",
    "version": 3
   },
   "file_extension": ".py",
   "mimetype": "text/x-python",
   "name": "python",
   "nbconvert_exporter": "python",
   "pygments_lexer": "ipython3",
   "version": "3.11.3"
  }
 },
 "nbformat": 4,
 "nbformat_minor": 5
}
