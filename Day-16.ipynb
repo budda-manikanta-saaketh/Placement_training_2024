{
 "cells": [
  {
   "cell_type": "markdown",
   "id": "1fefe2e9",
   "metadata": {},
   "source": [
    "# append,search,delete and no.of times given string repeated"
   ]
  },
  {
   "cell_type": "code",
   "execution_count": 23,
   "id": "bb9c1f2a",
   "metadata": {},
   "outputs": [
    {
     "name": "stdout",
     "output_type": "stream",
     "text": [
      "3\n",
      "1 word\n",
      "1 word\n",
      "4 word\n",
      "[]\n"
     ]
    }
   ],
   "source": [
    "def search(x,li):\n",
    "    s=0\n",
    "    l=set(li)\n",
    "    for i in l:\n",
    "        if x in i:\n",
    "            s+=1\n",
    "    if s!=0:\n",
    "        return s\n",
    "    print(li)\n",
    "    return False\n",
    "\n",
    "    \n",
    "n=int(input())\n",
    "li=[]\n",
    "s=''\n",
    "\n",
    "for i in range(n):\n",
    "    \n",
    "    s=input()\n",
    "    \n",
    "    if int(s[0])==1:\n",
    "        li.append(s[2:])\n",
    "        \n",
    "    elif int(s[0])==2:\n",
    "        if s[2:] in li:\n",
    "            print(\"True\")\n",
    "        else:\n",
    "            print(\"False\")\n",
    "            \n",
    "    elif int(s[0])==3:\n",
    "        print(search(s[2:],li))\n",
    "        \n",
    "    elif int(s[0])==4:\n",
    "        se=list(set(li))\n",
    "        li=se.copy()\n",
    "        for i in li:\n",
    "            if i==s[2:]:\n",
    "                li.remove(i)\n",
    "        print(li)"
   ]
  },
  {
   "cell_type": "markdown",
   "id": "80faa6e9",
   "metadata": {},
   "source": [
    "# TRIES\n",
    "## insert, search word, search prefix, longest prefix"
   ]
  },
  {
   "cell_type": "code",
   "execution_count": 29,
   "id": "ea6858e8",
   "metadata": {},
   "outputs": [
    {
     "name": "stdout",
     "output_type": "stream",
     "text": [
      "7\n",
      "1 world\n",
      "1 word\n",
      "1 words\n",
      "1 wool\n",
      "1 aplle\n",
      "1 wor\n",
      "4 wor\n",
      "None\n"
     ]
    }
   ],
   "source": [
    "class node:\n",
    "    def __init__(self):\n",
    "        self.d={}\n",
    "        self.flag=0\n",
    "        \n",
    "class tries:\n",
    "    def __init__(self):\n",
    "        self.root=node()\n",
    "        \n",
    "    def insert(self,str):\n",
    "        t=self.root\n",
    "        for i in str:\n",
    "            if i not in t.d:\n",
    "                t.d[i]=node()\n",
    "            else:\n",
    "                t.d[i]\n",
    "        t.flag = 1\n",
    "        \n",
    "    def search(self,str):\n",
    "        t=self.root\n",
    "        for i in str:\n",
    "            if i not in t.d:\n",
    "                return False\n",
    "            t = t.d[i]\n",
    "            return True\n",
    "        \n",
    "    def search_prefix(self, s):\n",
    "        t = self.root\n",
    "        for i in s:\n",
    "            if i not in t.d:\n",
    "                return False\n",
    "            t = t.d[i]\n",
    "        return True\n",
    "    \n",
    "    def sugg(self,str):\n",
    "        def fun(t,s):\n",
    "            if t.flag==1:\n",
    "                print(s)\n",
    "                return\n",
    "            for i in t.d:\n",
    "                fun(t.d[i],s+i)\n",
    "        t=self.root\n",
    "        s=''\n",
    "        for i in str:\n",
    "            if i in t.d:\n",
    "                s=s+i\n",
    "                t=t.d[i]\n",
    "            else:\n",
    "                return\n",
    "        fun(t,s)\n",
    "        \n",
    "    def longest_prefix(self):\n",
    "        def fun(t, s):\n",
    "            if t.flag == 1:\n",
    "                prefix_list.append(s)\n",
    "            for i in t.d:\n",
    "                fun(t.d[i], s + i)\n",
    "\n",
    "        prefix_list = []\n",
    "        fun(self.root, \"\")\n",
    "        return max(prefix_list, key=len)\n",
    "        \n",
    "        \n",
    "t1=tries()\n",
    "n=int(input())\n",
    "for i in range(n):\n",
    "    a,s=input().split()\n",
    "    if a=='1':\n",
    "        t1.insert(s)\n",
    "    if a=='2':\n",
    "        print(t1.search(s))\n",
    "    if a=='3':\n",
    "        print(t1.search_prefix(s))\n",
    "    if a=='4':\n",
    "        print(t1.sugg(s))\n",
    "    if a=='5':\n",
    "        print(t1.longest_prefix(s))\n",
    "        \n",
    "        "
   ]
  }
 ],
 "metadata": {
  "kernelspec": {
   "display_name": "Python 3 (ipykernel)",
   "language": "python",
   "name": "python3"
  },
  "language_info": {
   "codemirror_mode": {
    "name": "ipython",
    "version": 3
   },
   "file_extension": ".py",
   "mimetype": "text/x-python",
   "name": "python",
   "nbconvert_exporter": "python",
   "pygments_lexer": "ipython3",
   "version": "3.11.3"
  }
 },
 "nbformat": 4,
 "nbformat_minor": 5
}
