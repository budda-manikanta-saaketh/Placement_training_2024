{
 "cells": [
  {
   "cell_type": "markdown",
   "id": "1eecbd76",
   "metadata": {},
   "source": [
    "# check whether single digit sum of any given number is prime or not"
   ]
  },
  {
   "cell_type": "code",
   "execution_count": 41,
   "id": "44fa94fd",
   "metadata": {},
   "outputs": [
    {
     "name": "stdout",
     "output_type": "stream",
     "text": [
      "537\n",
      "538\n"
     ]
    }
   ],
   "source": [
    "def add(n):\n",
    "    rem=0\n",
    "    sum1=0\n",
    "    while n>0:\n",
    "        sum1+=n%10\n",
    "        n=n//10\n",
    "    return sum1\n",
    "\n",
    "def calc(n):\n",
    "    if n<10:\n",
    "        if n in [2,3,5,7]:\n",
    "            return 1\n",
    "        return 0\n",
    "    else:\n",
    "        while(1):\n",
    "            n=add(n)\n",
    "            if len(str(n))==1:\n",
    "                break\n",
    "        if n in [2,3,5,7]:\n",
    "                return 1\n",
    "        else:\n",
    "            return 0\n",
    "def check(n):\n",
    "    while (1):\n",
    "        if calc(n)==1:\n",
    "            print(n)\n",
    "            break\n",
    "        else:\n",
    "            n=n+1\n",
    "n=int(input())\n",
    "check(n)"
   ]
  },
  {
   "cell_type": "markdown",
   "id": "59124018",
   "metadata": {},
   "source": [
    "# Even elements in a and odd elements in b"
   ]
  },
  {
   "cell_type": "code",
   "execution_count": 50,
   "id": "c9d8486a",
   "metadata": {},
   "outputs": [
    {
     "name": "stdout",
     "output_type": "stream",
     "text": [
      "12 12\n"
     ]
    }
   ],
   "source": [
    "def s1(i,eve,odd):\n",
    "    if len(a)==i:\n",
    "        return eve,odd\n",
    "    if a[i]%2==0:\n",
    "        eve+=a[i]\n",
    "    if b[i]%2!=0:\n",
    "        odd+=a[i]\n",
    "    return s1(i+1,eve,odd)\n",
    "a=[3,8,5,4,3]\n",
    "b=[5,0,9,3,2]\n",
    "x,y=s1(0,0,0)\n",
    "print(x,y)\n"
   ]
  },
  {
   "cell_type": "markdown",
   "id": "5ec32eef",
   "metadata": {},
   "source": [
    "# sum of even numbers till given number using recursion"
   ]
  },
  {
   "cell_type": "code",
   "execution_count": 52,
   "id": "32bddf9e",
   "metadata": {},
   "outputs": [
    {
     "name": "stdout",
     "output_type": "stream",
     "text": [
      "12\n",
      "42\n"
     ]
    }
   ],
   "source": [
    "def s1(n):\n",
    "    if n==0:\n",
    "        return 0\n",
    "    return n+s1(n-2)\n",
    "n=int(input())\n",
    "if n%2==0:\n",
    "    print(s1(n))\n",
    "else:\n",
    "    print(s1(n-1))"
   ]
  },
  {
   "cell_type": "markdown",
   "id": "7b1bca8f",
   "metadata": {},
   "source": [
    "# checking list is even or odd"
   ]
  },
  {
   "cell_type": "code",
   "execution_count": null,
   "id": "bfec3a49",
   "metadata": {},
   "outputs": [],
   "source": [
    "a=[5,8,9,5,2,4,7]\n",
    "if len(a)%2==0:\n",
    "    print(\"Yes\")\n",
    "else:\n",
    "    print(\"No\")"
   ]
  }
 ],
 "metadata": {
  "kernelspec": {
   "display_name": "Python 3 (ipykernel)",
   "language": "python",
   "name": "python3"
  },
  "language_info": {
   "codemirror_mode": {
    "name": "ipython",
    "version": 3
   },
   "file_extension": ".py",
   "mimetype": "text/x-python",
   "name": "python",
   "nbconvert_exporter": "python",
   "pygments_lexer": "ipython3",
   "version": "3.11.3"
  }
 },
 "nbformat": 4,
 "nbformat_minor": 5
}
