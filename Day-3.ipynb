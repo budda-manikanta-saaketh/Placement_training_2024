{
 "cells": [
  {
   "cell_type": "markdown",
   "id": "690fd14c",
   "metadata": {},
   "source": [
    "# decoding the given word with help of key in o(n^2)"
   ]
  },
  {
   "cell_type": "code",
   "execution_count": 34,
   "id": "9bc81d15",
   "metadata": {},
   "outputs": [
    {
     "name": "stdout",
     "output_type": "stream",
     "text": [
      "xray\n"
     ]
    }
   ],
   "source": [
    "res=[]\n",
    "s=\"bvec\"\n",
    "x=4\n",
    "num=x\n",
    "for i in s:\n",
    "    a=ord(i)\n",
    "    while(x>0):\n",
    "        if a==97:\n",
    "            a=a+25\n",
    "        else:\n",
    "            a-=1\n",
    "        x-=1\n",
    "    x=num\n",
    "    res.append(chr(a))\n",
    "print(''.join(res))\n",
    "    "
   ]
  },
  {
   "cell_type": "markdown",
   "id": "5812a317",
   "metadata": {},
   "source": [
    "# decoding the given word with help of key in o(n)"
   ]
  },
  {
   "cell_type": "code",
   "execution_count": 43,
   "id": "cf00e18e",
   "metadata": {},
   "outputs": [
    {
     "name": "stdout",
     "output_type": "stream",
     "text": [
      "xray\n"
     ]
    }
   ],
   "source": [
    "res=''\n",
    "s=\"bvec\"\n",
    "x=4\n",
    "a=x%26\n",
    "for i in s:\n",
    "    if (ord(i)-a)>=97:\n",
    "        res=res+chr(ord(i)-a)\n",
    "    else:\n",
    "        res=res+chr(ord(i)-a + 26)\n",
    "print(res)"
   ]
  },
  {
   "cell_type": "markdown",
   "id": "478b1fbb",
   "metadata": {},
   "source": [
    "# maximum length of consecutive letters"
   ]
  },
  {
   "cell_type": "code",
   "execution_count": null,
   "id": "69c33f1e",
   "metadata": {},
   "outputs": [],
   "source": [
    "s=\"abcde\"\n",
    "res=[]\n",
    "j=0\n",
    "ma=1\n",
    "for i in range(len(s)-1):\n",
    "    if ord(s[i+1]) - (ord(s[i])) !=1:\n",
    "        res.append(s[j:i+1])\n",
    "        j=i+1\n",
    "res.append(s[j:])\n",
    "print(res)\n",
    "for i in res:\n",
    "    if len(i)>ma:\n",
    "        ma=len(i)\n",
    "print(ma)      "
   ]
  },
  {
   "cell_type": "markdown",
   "id": "c40082f7",
   "metadata": {},
   "source": [
    "# checking whether letters present in string or not"
   ]
  },
  {
   "cell_type": "code",
   "execution_count": null,
   "id": "ed458f30",
   "metadata": {
    "scrolled": false
   },
   "outputs": [],
   "source": [
    "n=int(input())\n",
    "s=[]\n",
    "k=0\n",
    "for i in range(n):\n",
    "    s.append(input())\n",
    "ch=input()\n",
    "for i in range(len(ch)):\n",
    "    if ch[i] not in s[i%n]:\n",
    "        k=1\n",
    "        print(\"False\")\n",
    "        break\n",
    "    else:\n",
    "        s[i].remove(ch[i])\n",
    "else:\n",
    "    print(\"True\")"
   ]
  },
  {
   "cell_type": "markdown",
   "id": "617d9f50",
   "metadata": {},
   "source": [
    "# palindrome using recursion"
   ]
  },
  {
   "cell_type": "code",
   "execution_count": 15,
   "id": "2260e749",
   "metadata": {},
   "outputs": [
    {
     "name": "stdout",
     "output_type": "stream",
     "text": [
      "545\n",
      "palindrome\n"
     ]
    }
   ],
   "source": [
    "def rec(n):\n",
    "    res=0\n",
    "    if n==0:\n",
    "        return 0\n",
    "    v=(int(len(str(n)))-1)\n",
    "    res=(n%10)*(10)**v\n",
    "    return res+rec(n//10)\n",
    "\n",
    "n=int(input())\n",
    "if rec(n)==n:\n",
    "    print(\"palindrome\")\n",
    "else:\n",
    "    print(\"np\")\n"
   ]
  },
  {
   "cell_type": "markdown",
   "id": "9ae77892",
   "metadata": {},
   "source": [
    "# max profit when buying and selling pen in same week  in o(n^2)"
   ]
  },
  {
   "cell_type": "code",
   "execution_count": 1,
   "id": "8075b9ad",
   "metadata": {},
   "outputs": [
    {
     "name": "stdout",
     "output_type": "stream",
     "text": [
      "15\n",
      "3\n",
      "9\n",
      "8\n",
      "4\n",
      "2\n",
      "6\n"
     ]
    }
   ],
   "source": [
    "li=[]\n",
    "profit=0\n",
    "for i in range(6):\n",
    "    li.append(int(input()))\n",
    "for i in range(6):\n",
    "    for j in range(i,6):\n",
    "        if li[i]<li[j] and li[j]-li[i]>profit:\n",
    "            profit=li[j]-li[i]\n",
    "print(profit)"
   ]
  },
  {
   "cell_type": "markdown",
   "id": "2743a42d",
   "metadata": {},
   "source": [
    "# max profit when buying and selling pen in same week  in o(n)"
   ]
  },
  {
   "cell_type": "code",
   "execution_count": 33,
   "id": "364745c9",
   "metadata": {},
   "outputs": [
    {
     "name": "stdout",
     "output_type": "stream",
     "text": [
      "15 3 2 8 1 9\n",
      "14\n"
     ]
    }
   ],
   "source": [
    "li=list(map(int,input().split(\" \")))\n",
    "cp,sp,pr=1,0,0\n",
    "for i in li:\n",
    "    if cp>i:\n",
    "        cp=i\n",
    "    if sp<i:\n",
    "        sp=i\n",
    "    if pr<(sp-cp):\n",
    "        pr = sp-cp\n",
    "print(pr)"
   ]
  },
  {
   "cell_type": "markdown",
   "id": "54a76840",
   "metadata": {},
   "source": [
    "# patterns"
   ]
  },
  {
   "cell_type": "code",
   "execution_count": 38,
   "id": "3dadad8b",
   "metadata": {},
   "outputs": [
    {
     "name": "stdout",
     "output_type": "stream",
     "text": [
      "* * * * *  \n",
      "* 1 2 3 *  \n",
      "* 4 5 6 *  \n",
      "* 7 8 9 *  \n",
      "* * * * *  \n"
     ]
    }
   ],
   "source": [
    "val=1\n",
    "for i in range(5):\n",
    "    for j in range(5):\n",
    "        if i==0 or j==0 or i==4 or j==4:\n",
    "            print(\"*\",end=\" \")\n",
    "        else:\n",
    "            print(val,end=\" \")\n",
    "            val+=1\n",
    "    print(\" \")\n"
   ]
  },
  {
   "cell_type": "code",
   "execution_count": 73,
   "id": "79b944a2",
   "metadata": {},
   "outputs": [
    {
     "name": "stdout",
     "output_type": "stream",
     "text": [
      "_____a____ \n",
      "____aba___ \n",
      "___abcab__ \n",
      "__abcdabc_ \n",
      "_abcd_abc_ \n"
     ]
    }
   ],
   "source": [
    "n=5\n",
    "for i in range(n):\n",
    "    for j in range(n+5):\n",
    "        if i+j==n or (j==n+1 and i>0):\n",
    "                print(\"a\",end=\"\")\n",
    "        elif (i+j==n+1 and j<n+1) or (j==n+2 and i>1):\n",
    "                print(\"b\",end=\"\")\n",
    "        elif (i+j==n+2 and j<n+2) or (j==n+3 and i>2):\n",
    "                 print(\"c\",end=\"\")\n",
    "        elif (i+j==n+3 and j<n+1) :\n",
    "                print(\"d\",end=\"\")\n",
    "        else:\n",
    "            print(\"_\",end=\"\")\n",
    "        \n",
    "            \n",
    "    print(\" \")\n",
    "\n",
    "        "
   ]
  }
 ],
 "metadata": {
  "kernelspec": {
   "display_name": "Python 3 (ipykernel)",
   "language": "python",
   "name": "python3"
  },
  "language_info": {
   "codemirror_mode": {
    "name": "ipython",
    "version": 3
   },
   "file_extension": ".py",
   "mimetype": "text/x-python",
   "name": "python",
   "nbconvert_exporter": "python",
   "pygments_lexer": "ipython3",
   "version": "3.11.3"
  }
 },
 "nbformat": 4,
 "nbformat_minor": 5
}
